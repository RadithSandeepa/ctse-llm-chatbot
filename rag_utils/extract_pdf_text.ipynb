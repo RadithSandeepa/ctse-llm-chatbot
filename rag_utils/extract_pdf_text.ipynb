{
 "cells": [
  {
   "cell_type": "code",
   "execution_count": null,
   "metadata": {},
   "outputs": [],
   "source": [
    "# Install required library\n",
    "%pip install PyMuPDF\n",
    "\n",
    "# Import necessary modules\n",
    "import fitz  # PyMuPDF\n",
    "from pathlib import Path\n",
    "from google.colab import files\n",
    "\n",
    "# Upload the PDF file\n",
    "print(\"Upload your PDF file...\")\n",
    "uploaded = files.upload()  # browse & upload your PDF file\n",
    "\n",
    "# Set file name\n",
    "pdf_path = list(uploaded.keys())[0]\n",
    "output_txt_path = \"lecture_notes.txt\"\n",
    "\n",
    "# Read and extract text from PDF\n",
    "doc = fitz.open(pdf_path)\n",
    "print(f\"Total pages: {len(doc)}\")\n",
    "\n",
    "all_text = \"\"\n",
    "for i, page in enumerate(doc):\n",
    "    print(f\"Extracting page {i+1}/{len(doc)}\")\n",
    "    text = page.get_text()\n",
    "    all_text += text + \"\\n\\n\"\n",
    "\n",
    "# Save to a text file\n",
    "with open(output_txt_path, \"w\", encoding=\"utf-8\") as f:\n",
    "    f.write(all_text)\n",
    "\n",
    "print(f\"Done! Extracted text saved to '{output_txt_path}'\")\n",
    "\n",
    "# Download the extracted text file\n",
    "files.download(output_txt_path)\n"
   ]
  }
 ],
 "metadata": {
  "language_info": {
   "name": "python"
  }
 },
 "nbformat": 4,
 "nbformat_minor": 2
}
